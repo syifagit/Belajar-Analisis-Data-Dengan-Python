{
  "nbformat": 4,
  "nbformat_minor": 0,
  "metadata": {
    "colab": {
      "provenance": []
    },
    "kernelspec": {
      "name": "python3",
      "display_name": "Python 3"
    },
    "language_info": {
      "name": "python"
    }
  },
  "cells": [
    {
      "cell_type": "markdown",
      "source": [
        "# Descriptive Statistics - Penjualan Mobil Toyota di Indonesia\n",
        "Mendeskripsikan data penjualan mobil toyota di Indonesia dengan menerapkan beberapa konsep descriptive statistics.\n",
        "\n",
        "Dataset source : https://www.kaggle.com/datasets/justlearn47/penjualan-mobil-toyota-di-indonesia.\n",
        "\n",
        "Dataset memiliki 2 kolom yaitu:\n",
        "- Bulan yang merepresentasikan waktu terjadinya penjualan mobil toyota\n",
        "- Penjualan yang merepresentasikan banyak mobil toyota yang terjual pada bulan tersebut.\n"
      ],
      "metadata": {
        "id": "Hhos1n0WAyGr"
      }
    },
    {
      "cell_type": "markdown",
      "source": [
        "## Import Packages"
      ],
      "metadata": {
        "id": "jz20dxJ1FzF2"
      }
    },
    {
      "cell_type": "code",
      "execution_count": 1,
      "metadata": {
        "id": "M9cgVTfb_FKx"
      },
      "outputs": [],
      "source": [
        "import pandas as pd\n",
        "import numpy as np\n",
        "from scipy import stats\n",
        "import matplotlib.pyplot as plt"
      ]
    },
    {
      "cell_type": "markdown",
      "source": [
        "## Read CSV File"
      ],
      "metadata": {
        "id": "cGKmOekDF5uT"
      }
    },
    {
      "cell_type": "code",
      "source": [
        "data = pd.read_csv('https://raw.githubusercontent.com/syifagit/Belajar-Analisis-Data-Dengan-Python/main/Dataset/Penjualan_Mobil_Toyota.csv')"
      ],
      "metadata": {
        "id": "h-wevgknAwdP"
      },
      "execution_count": 2,
      "outputs": []
    },
    {
      "cell_type": "code",
      "source": [
        "data.head()"
      ],
      "metadata": {
        "colab": {
          "base_uri": "https://localhost:8080/",
          "height": 206
        },
        "id": "Sv3YqdrPF9qr",
        "outputId": "c89c2838-917f-41d3-f002-580dfcd95722"
      },
      "execution_count": 3,
      "outputs": [
        {
          "output_type": "execute_result",
          "data": {
            "text/plain": [
              "     Bulan  Penjualan\n",
              "0  2011-01      27619\n",
              "1  2011-02      25532\n",
              "2  2011-03      32275\n",
              "3  2011-04      21128\n",
              "4  2011-05      19554"
            ],
            "text/html": [
              "\n",
              "\n",
              "  <div id=\"df-49dcfcf5-998c-4d30-be54-f65469c7e65d\">\n",
              "    <div class=\"colab-df-container\">\n",
              "      <div>\n",
              "<style scoped>\n",
              "    .dataframe tbody tr th:only-of-type {\n",
              "        vertical-align: middle;\n",
              "    }\n",
              "\n",
              "    .dataframe tbody tr th {\n",
              "        vertical-align: top;\n",
              "    }\n",
              "\n",
              "    .dataframe thead th {\n",
              "        text-align: right;\n",
              "    }\n",
              "</style>\n",
              "<table border=\"1\" class=\"dataframe\">\n",
              "  <thead>\n",
              "    <tr style=\"text-align: right;\">\n",
              "      <th></th>\n",
              "      <th>Bulan</th>\n",
              "      <th>Penjualan</th>\n",
              "    </tr>\n",
              "  </thead>\n",
              "  <tbody>\n",
              "    <tr>\n",
              "      <th>0</th>\n",
              "      <td>2011-01</td>\n",
              "      <td>27619</td>\n",
              "    </tr>\n",
              "    <tr>\n",
              "      <th>1</th>\n",
              "      <td>2011-02</td>\n",
              "      <td>25532</td>\n",
              "    </tr>\n",
              "    <tr>\n",
              "      <th>2</th>\n",
              "      <td>2011-03</td>\n",
              "      <td>32275</td>\n",
              "    </tr>\n",
              "    <tr>\n",
              "      <th>3</th>\n",
              "      <td>2011-04</td>\n",
              "      <td>21128</td>\n",
              "    </tr>\n",
              "    <tr>\n",
              "      <th>4</th>\n",
              "      <td>2011-05</td>\n",
              "      <td>19554</td>\n",
              "    </tr>\n",
              "  </tbody>\n",
              "</table>\n",
              "</div>\n",
              "      <button class=\"colab-df-convert\" onclick=\"convertToInteractive('df-49dcfcf5-998c-4d30-be54-f65469c7e65d')\"\n",
              "              title=\"Convert this dataframe to an interactive table.\"\n",
              "              style=\"display:none;\">\n",
              "\n",
              "  <svg xmlns=\"http://www.w3.org/2000/svg\" height=\"24px\"viewBox=\"0 0 24 24\"\n",
              "       width=\"24px\">\n",
              "    <path d=\"M0 0h24v24H0V0z\" fill=\"none\"/>\n",
              "    <path d=\"M18.56 5.44l.94 2.06.94-2.06 2.06-.94-2.06-.94-.94-2.06-.94 2.06-2.06.94zm-11 1L8.5 8.5l.94-2.06 2.06-.94-2.06-.94L8.5 2.5l-.94 2.06-2.06.94zm10 10l.94 2.06.94-2.06 2.06-.94-2.06-.94-.94-2.06-.94 2.06-2.06.94z\"/><path d=\"M17.41 7.96l-1.37-1.37c-.4-.4-.92-.59-1.43-.59-.52 0-1.04.2-1.43.59L10.3 9.45l-7.72 7.72c-.78.78-.78 2.05 0 2.83L4 21.41c.39.39.9.59 1.41.59.51 0 1.02-.2 1.41-.59l7.78-7.78 2.81-2.81c.8-.78.8-2.07 0-2.86zM5.41 20L4 18.59l7.72-7.72 1.47 1.35L5.41 20z\"/>\n",
              "  </svg>\n",
              "      </button>\n",
              "\n",
              "\n",
              "\n",
              "    <div id=\"df-3af205ea-aa82-4a3b-8df5-8b1a41c9e1a2\">\n",
              "      <button class=\"colab-df-quickchart\" onclick=\"quickchart('df-3af205ea-aa82-4a3b-8df5-8b1a41c9e1a2')\"\n",
              "              title=\"Suggest charts.\"\n",
              "              style=\"display:none;\">\n",
              "\n",
              "<svg xmlns=\"http://www.w3.org/2000/svg\" height=\"24px\"viewBox=\"0 0 24 24\"\n",
              "     width=\"24px\">\n",
              "    <g>\n",
              "        <path d=\"M19 3H5c-1.1 0-2 .9-2 2v14c0 1.1.9 2 2 2h14c1.1 0 2-.9 2-2V5c0-1.1-.9-2-2-2zM9 17H7v-7h2v7zm4 0h-2V7h2v10zm4 0h-2v-4h2v4z\"/>\n",
              "    </g>\n",
              "</svg>\n",
              "      </button>\n",
              "    </div>\n",
              "\n",
              "<style>\n",
              "  .colab-df-quickchart {\n",
              "    background-color: #E8F0FE;\n",
              "    border: none;\n",
              "    border-radius: 50%;\n",
              "    cursor: pointer;\n",
              "    display: none;\n",
              "    fill: #1967D2;\n",
              "    height: 32px;\n",
              "    padding: 0 0 0 0;\n",
              "    width: 32px;\n",
              "  }\n",
              "\n",
              "  .colab-df-quickchart:hover {\n",
              "    background-color: #E2EBFA;\n",
              "    box-shadow: 0px 1px 2px rgba(60, 64, 67, 0.3), 0px 1px 3px 1px rgba(60, 64, 67, 0.15);\n",
              "    fill: #174EA6;\n",
              "  }\n",
              "\n",
              "  [theme=dark] .colab-df-quickchart {\n",
              "    background-color: #3B4455;\n",
              "    fill: #D2E3FC;\n",
              "  }\n",
              "\n",
              "  [theme=dark] .colab-df-quickchart:hover {\n",
              "    background-color: #434B5C;\n",
              "    box-shadow: 0px 1px 3px 1px rgba(0, 0, 0, 0.15);\n",
              "    filter: drop-shadow(0px 1px 2px rgba(0, 0, 0, 0.3));\n",
              "    fill: #FFFFFF;\n",
              "  }\n",
              "</style>\n",
              "\n",
              "    <script>\n",
              "      async function quickchart(key) {\n",
              "        const containerElement = document.querySelector('#' + key);\n",
              "        const charts = await google.colab.kernel.invokeFunction(\n",
              "            'suggestCharts', [key], {});\n",
              "      }\n",
              "    </script>\n",
              "\n",
              "      <script>\n",
              "\n",
              "function displayQuickchartButton(domScope) {\n",
              "  let quickchartButtonEl =\n",
              "    domScope.querySelector('#df-3af205ea-aa82-4a3b-8df5-8b1a41c9e1a2 button.colab-df-quickchart');\n",
              "  quickchartButtonEl.style.display =\n",
              "    google.colab.kernel.accessAllowed ? 'block' : 'none';\n",
              "}\n",
              "\n",
              "        displayQuickchartButton(document);\n",
              "      </script>\n",
              "      <style>\n",
              "    .colab-df-container {\n",
              "      display:flex;\n",
              "      flex-wrap:wrap;\n",
              "      gap: 12px;\n",
              "    }\n",
              "\n",
              "    .colab-df-convert {\n",
              "      background-color: #E8F0FE;\n",
              "      border: none;\n",
              "      border-radius: 50%;\n",
              "      cursor: pointer;\n",
              "      display: none;\n",
              "      fill: #1967D2;\n",
              "      height: 32px;\n",
              "      padding: 0 0 0 0;\n",
              "      width: 32px;\n",
              "    }\n",
              "\n",
              "    .colab-df-convert:hover {\n",
              "      background-color: #E2EBFA;\n",
              "      box-shadow: 0px 1px 2px rgba(60, 64, 67, 0.3), 0px 1px 3px 1px rgba(60, 64, 67, 0.15);\n",
              "      fill: #174EA6;\n",
              "    }\n",
              "\n",
              "    [theme=dark] .colab-df-convert {\n",
              "      background-color: #3B4455;\n",
              "      fill: #D2E3FC;\n",
              "    }\n",
              "\n",
              "    [theme=dark] .colab-df-convert:hover {\n",
              "      background-color: #434B5C;\n",
              "      box-shadow: 0px 1px 3px 1px rgba(0, 0, 0, 0.15);\n",
              "      filter: drop-shadow(0px 1px 2px rgba(0, 0, 0, 0.3));\n",
              "      fill: #FFFFFF;\n",
              "    }\n",
              "  </style>\n",
              "\n",
              "      <script>\n",
              "        const buttonEl =\n",
              "          document.querySelector('#df-49dcfcf5-998c-4d30-be54-f65469c7e65d button.colab-df-convert');\n",
              "        buttonEl.style.display =\n",
              "          google.colab.kernel.accessAllowed ? 'block' : 'none';\n",
              "\n",
              "        async function convertToInteractive(key) {\n",
              "          const element = document.querySelector('#df-49dcfcf5-998c-4d30-be54-f65469c7e65d');\n",
              "          const dataTable =\n",
              "            await google.colab.kernel.invokeFunction('convertToInteractive',\n",
              "                                                     [key], {});\n",
              "          if (!dataTable) return;\n",
              "\n",
              "          const docLinkHtml = 'Like what you see? Visit the ' +\n",
              "            '<a target=\"_blank\" href=https://colab.research.google.com/notebooks/data_table.ipynb>data table notebook</a>'\n",
              "            + ' to learn more about interactive tables.';\n",
              "          element.innerHTML = '';\n",
              "          dataTable['output_type'] = 'display_data';\n",
              "          await google.colab.output.renderOutput(dataTable, element);\n",
              "          const docLink = document.createElement('div');\n",
              "          docLink.innerHTML = docLinkHtml;\n",
              "          element.appendChild(docLink);\n",
              "        }\n",
              "      </script>\n",
              "    </div>\n",
              "  </div>\n"
            ]
          },
          "metadata": {},
          "execution_count": 3
        }
      ]
    },
    {
      "cell_type": "code",
      "source": [
        "# Convert pandas data frame to numpy array\n",
        "\n",
        "penjualan_array = data['Penjualan'].to_numpy()"
      ],
      "metadata": {
        "id": "X3Kl4N-dG2ej"
      },
      "execution_count": 4,
      "outputs": []
    },
    {
      "cell_type": "markdown",
      "source": [
        "## Measuring Central Tendency"
      ],
      "metadata": {
        "id": "ffd-CeKWGB3c"
      }
    },
    {
      "cell_type": "markdown",
      "source": [
        "###  Mean"
      ],
      "metadata": {
        "id": "5kIwUg83GIBA"
      }
    },
    {
      "cell_type": "code",
      "source": [
        "mean = np.mean(penjualan_array)\n",
        "print(mean)"
      ],
      "metadata": {
        "colab": {
          "base_uri": "https://localhost:8080/"
        },
        "id": "DlGpX1vMGAol",
        "outputId": "a2c25345-f3b3-4e3d-a296-1c80e39a2317"
      },
      "execution_count": 5,
      "outputs": [
        {
          "output_type": "stream",
          "name": "stdout",
          "text": [
            "28402.845637583894\n"
          ]
        }
      ]
    },
    {
      "cell_type": "markdown",
      "source": [
        "Nilai mean atau rata-rata dari penjualan mobil toyota di Indonesia adalah 28402.85"
      ],
      "metadata": {
        "id": "vr_h3y8FHiWf"
      }
    },
    {
      "cell_type": "markdown",
      "source": [
        "### Median"
      ],
      "metadata": {
        "id": "_YdZC7l-H7OJ"
      }
    },
    {
      "cell_type": "code",
      "source": [
        "median = np.median(penjualan_array)\n",
        "print(median)"
      ],
      "metadata": {
        "colab": {
          "base_uri": "https://localhost:8080/"
        },
        "id": "QnDdLX7HH83G",
        "outputId": "9c000967-60e0-4e9d-842c-eb2d8946db89"
      },
      "execution_count": 6,
      "outputs": [
        {
          "output_type": "stream",
          "name": "stdout",
          "text": [
            "29362.0\n"
          ]
        }
      ]
    },
    {
      "cell_type": "markdown",
      "source": [
        "Nilai median dari data penjualan mobil toyota di Indonesia adalah 29362"
      ],
      "metadata": {
        "id": "DrI_P0WfIP9u"
      }
    },
    {
      "cell_type": "markdown",
      "source": [
        "### Mode"
      ],
      "metadata": {
        "id": "r3AWkrPtIhyy"
      }
    },
    {
      "cell_type": "code",
      "source": [
        "mode = stats.mode(penjualan_array)\n",
        "mode_value = mode.mode[0]\n",
        "mode_count = mode.count[0]\n",
        "print(f\"Nilai Mode: {mode_value}\")\n",
        "print(f\"Frekuensi: {mode_count}\")"
      ],
      "metadata": {
        "colab": {
          "base_uri": "https://localhost:8080/"
        },
        "id": "8671pWTbIlZs",
        "outputId": "47b03eb5-86b6-4363-dafc-21e18f05a5f9"
      },
      "execution_count": 7,
      "outputs": [
        {
          "output_type": "stream",
          "name": "stdout",
          "text": [
            "Nilai Mode: 28970\n",
            "Frekuensi: 2\n"
          ]
        },
        {
          "output_type": "stream",
          "name": "stderr",
          "text": [
            "<ipython-input-7-13e88afede73>:1: FutureWarning: Unlike other reduction functions (e.g. `skew`, `kurtosis`), the default behavior of `mode` typically preserves the axis it acts along. In SciPy 1.11.0, this behavior will change: the default value of `keepdims` will become False, the `axis` over which the statistic is taken will be eliminated, and the value None will no longer be accepted. Set `keepdims` to True or False to avoid this warning.\n",
            "  mode = stats.mode(penjualan_array)\n"
          ]
        }
      ]
    },
    {
      "cell_type": "markdown",
      "source": [
        "Nilai modus dari data penjualan mobil toyota di Indonesia adalah 28970"
      ],
      "metadata": {
        "id": "r7zPvnqmLCTQ"
      }
    },
    {
      "cell_type": "markdown",
      "source": [
        "## Measuring Dispersion"
      ],
      "metadata": {
        "id": "hPMgwT4ZLQWO"
      }
    },
    {
      "cell_type": "markdown",
      "source": [
        "### Range"
      ],
      "metadata": {
        "id": "gimcx53KLTKi"
      }
    },
    {
      "cell_type": "code",
      "source": [
        "range = penjualan_array.max() - penjualan_array.min()\n",
        "print(range)"
      ],
      "metadata": {
        "colab": {
          "base_uri": "https://localhost:8080/"
        },
        "id": "qVCEyhcuLXHa",
        "outputId": "524ba7a1-1eb7-4125-dc49-db21459c3520"
      },
      "execution_count": 8,
      "outputs": [
        {
          "output_type": "stream",
          "name": "stdout",
          "text": [
            "40086\n"
          ]
        }
      ]
    },
    {
      "cell_type": "markdown",
      "source": [
        "Nilai range dari data penjualan mobil toyota di Indonesia adalah 40086"
      ],
      "metadata": {
        "id": "nhemXMTCLygg"
      }
    },
    {
      "cell_type": "markdown",
      "source": [
        "### Interquartile Range\n",
        "IQR = Q3-Q1"
      ],
      "metadata": {
        "id": "InvI8N2KL50v"
      }
    },
    {
      "cell_type": "code",
      "source": [
        "iqr = np.percentile(penjualan_array, 75) - np.percentile(penjualan_array, 25)\n",
        "print(iqr)"
      ],
      "metadata": {
        "id": "YWG-VmSRL-Lx",
        "colab": {
          "base_uri": "https://localhost:8080/"
        },
        "outputId": "74e821b3-7220-4f28-cb68-1ccddb402074"
      },
      "execution_count": 9,
      "outputs": [
        {
          "output_type": "stream",
          "name": "stdout",
          "text": [
            "8263.0\n"
          ]
        }
      ]
    },
    {
      "cell_type": "markdown",
      "source": [
        "Nilai IQR dari data penjualan mobil toyota di Indonesia adalah 8263"
      ],
      "metadata": {
        "id": "dbSWwuPpnH9e"
      }
    },
    {
      "cell_type": "markdown",
      "source": [
        "### Variance\n",
        "Variance menggambarkan besar simpangan suatu titik data dari nilai mean-nya. Variance merupakan rata-rata selisih kuadrat antara titik data dengan nilai mean-nya."
      ],
      "metadata": {
        "id": "RK2heU4fnmN8"
      }
    },
    {
      "cell_type": "code",
      "source": [
        "variance = pd.Series(penjualan_array).var()\n",
        "print(variance)"
      ],
      "metadata": {
        "colab": {
          "base_uri": "https://localhost:8080/"
        },
        "outputId": "ed56dfd0-026a-4872-f797-81d68fa3611c",
        "id": "jObAcKwLnmOA"
      },
      "execution_count": 10,
      "outputs": [
        {
          "output_type": "stream",
          "name": "stdout",
          "text": [
            "57447297.644930154\n"
          ]
        }
      ]
    },
    {
      "cell_type": "markdown",
      "source": [
        "Nilai variance dari data penjualan mobil toyota di Indonesia adalah 57447297.64"
      ],
      "metadata": {
        "id": "0RvyIu1JnmOC"
      }
    },
    {
      "cell_type": "markdown",
      "source": [
        "### Standard Deviation\n",
        "Standard deviation (std) merupakan akar kuadrat dari nilai variance.\n",
        "- Semakin kecil nilai std, maka semakin kecil jarak antara titik data dengan nilai mean-nya -> **sebaran sempit**\n",
        "- Semakin besar nilai std, maka semakin besar jarak antara titik data dengan nilai mean-nya -> **sebaran luas**"
      ],
      "metadata": {
        "id": "DSovKQGhoN67"
      }
    },
    {
      "cell_type": "code",
      "source": [
        "standard_deviation = pd.Series(penjualan_array).std()\n",
        "print(standard_deviation)"
      ],
      "metadata": {
        "colab": {
          "base_uri": "https://localhost:8080/"
        },
        "outputId": "be683dd9-dcb9-4872-e471-30c5141a5880",
        "id": "vA3bi0iZoN6-"
      },
      "execution_count": 11,
      "outputs": [
        {
          "output_type": "stream",
          "name": "stdout",
          "text": [
            "7579.399557018362\n"
          ]
        }
      ]
    },
    {
      "cell_type": "markdown",
      "source": [
        "Nilai standard deviation dari data penjualan mobil toyota di Indonesia adalah 7579.39"
      ],
      "metadata": {
        "id": "xirVDn0aoN6_"
      }
    },
    {
      "cell_type": "markdown",
      "source": [
        "## Measuring Asymmetric"
      ],
      "metadata": {
        "id": "CQ2N-sqoqROs"
      }
    },
    {
      "cell_type": "markdown",
      "source": [
        "### Data Distribution"
      ],
      "metadata": {
        "id": "SqAR2RLrqRPh"
      }
    },
    {
      "cell_type": "code",
      "source": [
        "plt.hist(penjualan_array)\n",
        "plt.show()"
      ],
      "metadata": {
        "colab": {
          "base_uri": "https://localhost:8080/",
          "height": 430
        },
        "outputId": "3090fb2e-26d7-46f2-ea04-f6149534a129",
        "id": "zL-xjoJ0qRPi"
      },
      "execution_count": 12,
      "outputs": [
        {
          "output_type": "display_data",
          "data": {
            "text/plain": [
              "<Figure size 640x480 with 1 Axes>"
            ],
            "image/png": "[encoded data removed]"
          },
          "metadata": {}
        }
      ]
    },
    {
      "cell_type": "code",
      "source": [
        "skewness = pd.Series(penjualan_array).skew()\n",
        "print(skewness)"
      ],
      "metadata": {
        "colab": {
          "base_uri": "https://localhost:8080/"
        },
        "id": "5vZZOhuBbuf4",
        "outputId": "d8375667-d805-4b81-e62b-ccf17c8792c3"
      },
      "execution_count": 13,
      "outputs": [
        {
          "output_type": "stream",
          "name": "stdout",
          "text": [
            "-1.173588499142924\n"
          ]
        }
      ]
    },
    {
      "cell_type": "markdown",
      "source": [
        "Dari histogram dan nilai skewness yang diperoleh, distribusi data dari penjualan mobil toyota di Indonesia masuk ke dalam kategori **Left-skewed Distribution**.\n",
        "- Nilai median dan mode yang dimiliki lebih besar dari nilai mean-nya."
      ],
      "metadata": {
        "id": "eOEXyapQqRPk"
      }
    }
  ]
}